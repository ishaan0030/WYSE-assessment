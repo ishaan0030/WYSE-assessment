{
 "cells": [
  {
   "cell_type": "code",
   "execution_count": 1,
   "metadata": {
    "colab": {
     "base_uri": "https://localhost:8080/"
    },
    "id": "i7luZ9y5XeMo",
    "outputId": "018ac45c-bb54-4b97-da0d-60c1d83ecc32"
   },
   "outputs": [
    {
     "name": "stdout",
     "output_type": "stream",
     "text": [
      "Defaulting to user installation because normal site-packages is not writeable"
     ]
    },
    {
     "name": "stderr",
     "output_type": "stream",
     "text": [
      "WARNING: There was an error checking the latest version of pip.\n"
     ]
    },
    {
     "name": "stdout",
     "output_type": "stream",
     "text": [
      "\n",
      "Collecting Wikipedia-API\n",
      "  Downloading Wikipedia-API-0.5.4.tar.gz (18 kB)\n",
      "  Preparing metadata (setup.py): started\n",
      "  Preparing metadata (setup.py): finished with status 'done'\n",
      "Requirement already satisfied: requests in c:\\users\\hp\\appdata\\roaming\\python\\python39\\site-packages (from Wikipedia-API) (2.26.0)\n",
      "Requirement already satisfied: charset-normalizer~=2.0.0 in c:\\users\\hp\\appdata\\roaming\\python\\python39\\site-packages (from requests->Wikipedia-API) (2.0.4)\n",
      "Requirement already satisfied: certifi>=2017.4.17 in c:\\users\\hp\\appdata\\roaming\\python\\python39\\site-packages (from requests->Wikipedia-API) (2021.5.30)\n",
      "Requirement already satisfied: urllib3<1.27,>=1.21.1 in c:\\users\\hp\\appdata\\roaming\\python\\python39\\site-packages (from requests->Wikipedia-API) (1.26.6)\n",
      "Requirement already satisfied: idna<4,>=2.5 in c:\\users\\hp\\appdata\\roaming\\python\\python39\\site-packages (from requests->Wikipedia-API) (3.2)\n",
      "Building wheels for collected packages: Wikipedia-API\n",
      "  Building wheel for Wikipedia-API (setup.py): started\n",
      "  Building wheel for Wikipedia-API (setup.py): finished with status 'done'\n",
      "  Created wheel for Wikipedia-API: filename=Wikipedia_API-0.5.4-py3-none-any.whl size=13461 sha256=7511dab343ee87717bfcb4f64eb429d0d0149e4885c8271f1c9c12b0eb7a3a78\n",
      "  Stored in directory: c:\\users\\hp\\appdata\\local\\pip\\cache\\wheels\\c7\\cf\\1a\\c300428dd51654cdadc921abdff75acaa7cc80b7151a2f0695\n",
      "Successfully built Wikipedia-API\n",
      "Installing collected packages: Wikipedia-API\n",
      "Successfully installed Wikipedia-API-0.5.4\n"
     ]
    }
   ],
   "source": [
    "!pip install Wikipedia-API"
   ]
  },
  {
   "cell_type": "code",
   "execution_count": 2,
   "metadata": {
    "id": "BjPSJC84X72x"
   },
   "outputs": [],
   "source": [
    "import wikipediaapi as wk\n",
    "import requests"
   ]
  },
  {
   "cell_type": "code",
   "execution_count": 3,
   "metadata": {
    "id": "OhGnRGZrYC3o"
   },
   "outputs": [],
   "source": [
    "wiki=wk.Wikipedia('en')\n",
    "pg=wiki.page('Taraxacum')\n"
   ]
  },
  {
   "cell_type": "code",
   "execution_count": 4,
   "metadata": {
    "id": "5dgUJv_eYwIo"
   },
   "outputs": [],
   "source": [
    "for sec in pg.sections:\n",
    "  if 'Eudicots' in sec.full_text():\n",
    "    print(sec)"
   ]
  },
  {
   "cell_type": "code",
   "execution_count": 5,
   "metadata": {
    "colab": {
     "base_uri": "https://localhost:8080/",
     "height": 35
    },
    "id": "vFDZvZp0Yw2m",
    "outputId": "2b97fddf-0a00-4ae4-98a1-91c83f6f64b2"
   },
   "outputs": [
    {
     "data": {
      "text/plain": [
       "'Description'"
      ]
     },
     "execution_count": 5,
     "metadata": {},
     "output_type": "execute_result"
    }
   ],
   "source": [
    "(pg.sections[0].title)"
   ]
  },
  {
   "cell_type": "code",
   "execution_count": null,
   "metadata": {
    "id": "7zhDsnvocNeS"
   },
   "outputs": [],
   "source": []
  }
 ],
 "metadata": {
  "colab": {
   "name": "WikipediaAPI.ipynb",
   "provenance": []
  },
  "kernelspec": {
   "display_name": "Python 3 (ipykernel)",
   "language": "python",
   "name": "python3"
  },
  "language_info": {
   "codemirror_mode": {
    "name": "ipython",
    "version": 3
   },
   "file_extension": ".py",
   "mimetype": "text/x-python",
   "name": "python",
   "nbconvert_exporter": "python",
   "pygments_lexer": "ipython3",
   "version": "3.9.6"
  }
 },
 "nbformat": 4,
 "nbformat_minor": 1
}
